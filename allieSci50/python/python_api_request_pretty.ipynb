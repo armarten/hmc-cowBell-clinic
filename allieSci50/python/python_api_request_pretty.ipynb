{
 "cells": [
  {
   "cell_type": "markdown",
   "metadata": {},
   "source": [
    "[Here is Wikipedia's list of all HTTP response codes](https://en.wikipedia.org/wiki/List_of_HTTP_status_codes)\n",
    "+ 100's: information\n",
    "+ 200's: success           \n",
    "+ 300's: redirects\n",
    "+ 400's + 500's: errors\n",
    "\n",
    "Perhaps familiar:  404 <br>\n",
    "Especially fun:  418\n"
   ]
  },
  {
   "cell_type": "code",
   "execution_count": 5,
   "metadata": {},
   "outputs": [],
   "source": [
    "import time\n",
    "import numpy as np\n",
    "import matplotlib.pyplot as plt\n",
    "import matplotlib as mp\n",
    "import matplotlib.animation as animation\n",
    "from matplotlib import style\n",
    "import datetime as dt\n",
    "# style.use('seaborn-v0_8-dark-palette')\n",
    "\n",
    "import requests;\n"
   ]
  },
  {
   "cell_type": "code",
   "execution_count": 13,
   "metadata": {},
   "outputs": [],
   "source": [
    "# %matplotlib qt\n",
    "# NECESSARY SO JUPYTER SHOWS LIVE PLOT!!!"
   ]
  },
  {
   "cell_type": "code",
   "execution_count": 39,
   "metadata": {},
   "outputs": [],
   "source": [
    "\n",
    "def ctlPower(url, switch):\n",
    "    page = \"get\"\n",
    "    param = \"ctl-power\"\n",
    "    if switch == \"on\" or switch == 1:\n",
    "        message = \"=on\"\n",
    "    elif switch == \"off\" or switch == 0:\n",
    "        message = \"=off\"\n",
    "    else:\n",
    "        print(\"Invalid input: \")\n",
    "        print(switch)\n",
    "        return False\n",
    "    query = url+page+\"?\"+param+message\n",
    "    result = requests.get(query)\n",
    "    contents = result.text\n",
    "    if \"SUCCESS\" in contents:\n",
    "        return True\n",
    "    else:\n",
    "        return False\n",
    "    \n",
    "\n",
    "def ctlBlinks(url, blinks):\n",
    "    page = \"get\"\n",
    "    param = \"ctl-blinks\"\n",
    "    message = \"=\" + str(blinks)\n",
    "    query = url+page+\"?\"+param+message\n",
    "    result = requests.get(query)\n",
    "    contents = result.text\n",
    "    if \"SUCCESS\" in contents:\n",
    "        return True\n",
    "    else:\n",
    "        return False\n",
    "\n",
    "\n",
    "def jsonDataRead(url):\n",
    "    page = \"get\"\n",
    "    param = \"read-data\"\n",
    "    message = \"\"\n",
    "    query = url+page+\"?\"+param+message\n",
    "    result = requests.get(query)\n",
    "    # contents = result.text\n",
    "    json_contents = result.json()\n",
    "    timestamp = dt.datetime.now().strftime('%H:%M:%S.%f')\n",
    "    time_data = [timestamp, json_contents]\n",
    "    # print(json_contents)\n",
    "    return time_data\n"
   ]
  },
  {
   "cell_type": "code",
   "execution_count": 21,
   "metadata": {},
   "outputs": [
    {
     "data": {
      "text/plain": [
       "['19:13:34.572332', {'time': 421741, 'button status': 0, 'thermistor': 2000}]"
      ]
     },
     "execution_count": 21,
     "metadata": {},
     "output_type": "execute_result"
    }
   ],
   "source": [
    "jsonDataRead(\"http://172.28.118.30/\")"
   ]
  },
  {
   "cell_type": "code",
   "execution_count": 34,
   "metadata": {},
   "outputs": [],
   "source": [
    "# This function is called periodically from FuncAnimation\n",
    "def animate(i, xs, ys, xs1, ys1, squish_bool, url):\n",
    "    \n",
    "\n",
    "    # Read button status from ESP32\n",
    "    timestamp, data = jsonDataRead(url)\n",
    "    # print(buttonStatus)\n",
    "\n",
    "    # Add read time and button status to lists\n",
    "    xs.append(timestamp)\n",
    "    ys.append(data[\"button status\"])\n",
    "\n",
    "    xs1.append(timestamp)\n",
    "    ys1.append(data['thermistor'])\n",
    "\n",
    "     \n",
    "    # plt.locator_params(axis='x', nbins=6)\n",
    "\n",
    "    if squish_bool:\n",
    "        pass\n",
    "    else:\n",
    "        # Limit x and y lists to 20 items, optional\n",
    "        xs = xs[-20:]\n",
    "        ys = ys[-20:]\n",
    "\n",
    "        xs1 = xs1[-20:]\n",
    "        ys1 = ys1[-20:]\n",
    "\n",
    "    # Draw x and y lists\n",
    "    ax.clear()\n",
    "    ax.plot(xs, ys)\n",
    "\n",
    "    ax1.clear()\n",
    "    ax1.plot(xs1, ys1)\n",
    "    \n",
    "\n",
    "    # xticks = ax.get_xticks()\n",
    "    # ax.set_xticks(xticks[::len(xticks) // 4]) # set new tick positions\n",
    "    # ax.tick_params(axis='x', rotation=30) # set tick rotation\n",
    "    # ax.margins(x=0) # set tight margins\n",
    "\n",
    "    ax.xaxis.set_major_locator(plt.MaxNLocator(5))\n",
    "    ax1.xaxis.set_major_locator(plt.MaxNLocator(5))\n",
    "\n",
    "    # Format plot\n",
    "    plt.xticks(rotation=45, ha='right')\n",
    "    plt.subplots_adjust(bottom=0.30)\n",
    "    plt.title('Thermistor Reading')\n",
    "    plt.ylabel('Temperature (deg C)')\n",
    "\n"
   ]
  },
  {
   "cell_type": "code",
   "execution_count": null,
   "metadata": {},
   "outputs": [],
   "source": [
    "ctlPower(url)\n"
   ]
  },
  {
   "cell_type": "code",
   "execution_count": 46,
   "metadata": {},
   "outputs": [],
   "source": [
    "import datetime as dt\n",
    "import matplotlib.pyplot as plt\n",
    "import matplotlib.animation as animation\n",
    "import time\n",
    "# style.use('seaborn-v0_8-dark-palette')\n",
    "\n",
    "\n",
    "def startplot():\n",
    "    # Create figure for plotting\n",
    "    fig = plt.figure()\n",
    "    ax = fig.add_subplot(2, 1, 1)\n",
    "    ax1 = fig.add_subplot(2, 1, 2)\n",
    "    xs = []\n",
    "    ys = []\n",
    "    xs1 = []\n",
    "    ys1 = []\n",
    "\n",
    "    url = \"http://172.28.118.30/\"\n",
    "\n",
    "    ctlPower(url, \"off\")\n",
    "\n",
    "    time.sleep(5)\n",
    "\n",
    "    ctlPower(url, \"on\")\n",
    "\n",
    "    time.sleep(5)\n",
    "\n",
    "    ctlBlinks(url, 3)\n",
    "\n",
    "\n",
    "    # Initialize communication with TMP102\n",
    "\n",
    "    # Set up plot to call animate() function periodically\n",
    "\n",
    "    ani = animation.FuncAnimation(fig, animate, fargs=(xs, ys, xs1, ys1, False, url), interval=200)\n",
    "    plt.show()"
   ]
  },
  {
   "cell_type": "code",
   "execution_count": 47,
   "metadata": {},
   "outputs": [
    {
     "name": "stderr",
     "output_type": "stream",
     "text": [
      "/var/folders/t2/8szqbhws4zsc41hzthbc_6bw0000gn/T/ipykernel_90998/2852146132.py:35: UserWarning: frames=None which we can infer the length of, did not pass an explicit *save_count* and passed cache_frame_data=True.  To avoid a possibly unbounded cache, frame data caching has been disabled. To suppress this warning either pass `cache_frame_data=False` or `save_count=MAX_FRAMES`.\n",
      "  ani = animation.FuncAnimation(fig, animate, fargs=(xs, ys, xs1, ys1, False, url), interval=200)\n",
      "/Users/allisonmarten/anaconda3/lib/python3.10/site-packages/matplotlib/animation.py:880: UserWarning: Animation was deleted without rendering anything. This is most likely not intended. To prevent deletion, assign the Animation to a variable, e.g. `anim`, that exists until you output the Animation using `plt.show()` or `anim.save()`.\n",
      "  warnings.warn(\n"
     ]
    }
   ],
   "source": [
    "startplot()"
   ]
  }
 ],
 "metadata": {
  "kernelspec": {
   "display_name": "base",
   "language": "python",
   "name": "python3"
  },
  "language_info": {
   "codemirror_mode": {
    "name": "ipython",
    "version": 3
   },
   "file_extension": ".py",
   "mimetype": "text/x-python",
   "name": "python",
   "nbconvert_exporter": "python",
   "pygments_lexer": "ipython3",
   "version": "3.10.9"
  }
 },
 "nbformat": 4,
 "nbformat_minor": 2
}
